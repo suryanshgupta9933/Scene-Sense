{
 "cells": [
  {
   "cell_type": "code",
   "execution_count": 1,
   "metadata": {},
   "outputs": [],
   "source": [
    "# Importing Dependencies\n",
    "import os\n",
    "import json\n",
    "import requests\n",
    "import torch\n",
    "import torch.nn.functional as F\n",
    "from typing import List, Generator\n",
    "from pymongo import MongoClient\n",
    "from IPython.display import display, Image\n",
    "import nltk\n",
    "from nltk.corpus import stopwords\n",
    "import tempfile\n",
    "import cv2  # Replacing PIL with a faster library\n",
    "from multiprocessing import Pool  # Importing Pool for multiprocessing\n",
    "from concurrent.futures import ThreadPoolExecutor, as_completed  # For multithreading"
   ]
  },
  {
   "cell_type": "code",
   "execution_count": 2,
   "metadata": {},
   "outputs": [
    {
     "name": "stderr",
     "output_type": "stream",
     "text": [
      "[nltk_data] Downloading package stopwords to\n",
      "[nltk_data]     C:\\Users\\Cypher\\AppData\\Roaming\\nltk_data...\n",
      "[nltk_data]   Package stopwords is already up-to-date!\n"
     ]
    }
   ],
   "source": [
    "# Download the NLTK stopwords\n",
    "nltk.download('stopwords')\n",
    "stop_words = set(stopwords.words('english'))"
   ]
  },
  {
   "cell_type": "code",
   "execution_count": 3,
   "metadata": {},
   "outputs": [
    {
     "data": {
      "text/plain": [
       "'embedding_1'"
      ]
     },
     "execution_count": 3,
     "metadata": {},
     "output_type": "execute_result"
    }
   ],
   "source": [
    "# Create a MongoDB client\n",
    "client = MongoClient('mongodb://localhost:27017')  # replace with your connection string\n",
    "\n",
    "# Create a database and a collection within the database\n",
    "db = client['scene-sense']\n",
    "embeddings_collection = db['embeddings']\n",
    "\n",
    "# Create an index on the 'embedding' field\n",
    "embeddings_collection.create_index(\"embedding\")"
   ]
  },
  {
   "cell_type": "code",
   "execution_count": 4,
   "metadata": {},
   "outputs": [],
   "source": [
    "def chunker(seq: list, size: int) -> Generator:\n",
    "    \"\"\"Yield chunks of data from a larger list.\"\"\"\n",
    "    if size <= 0:\n",
    "        raise ValueError(\"Size must be a positive integer\")\n",
    "    for pos in range(0, len(seq), size):\n",
    "        yield seq[pos:pos + size]"
   ]
  },
  {
   "cell_type": "code",
   "execution_count": 5,
   "metadata": {},
   "outputs": [],
   "source": [
    "def prepare_files(directory: str) -> Generator:\n",
    "    accepted_extensions = [\".jpg\", \".jpeg\", \".png\", \".bmp\", \".tiff\", \".webp\"]\n",
    "\n",
    "    # Get list of filenames from directory\n",
    "    filenames = [f for f in os.listdir(directory) if any(f.endswith(ext) for ext in accepted_extensions)]\n",
    "\n",
    "    # Fetch existing image paths from database\n",
    "    image_paths_in_db = set(doc['image_path'] for doc in embeddings_collection.find({}, {'image_path': 1}))\n",
    "\n",
    "    # Using multithreading to speed up the processing of the files\n",
    "    with ThreadPoolExecutor() as executor:\n",
    "        futures = []\n",
    "        for filename in filenames:\n",
    "            futures.append(executor.submit(process_image_file, filename, image_paths_in_db, directory))\n",
    "        for future in as_completed(futures):\n",
    "            result = future.result()\n",
    "            if result is not None:\n",
    "                yield result"
   ]
  },
  {
   "cell_type": "code",
   "execution_count": 6,
   "metadata": {},
   "outputs": [],
   "source": [
    "def process_image_file(filename: str, image_paths_in_db: set, directory: str):\n",
    "    image_path = os.path.join(directory, filename)\n",
    "    if image_path not in image_paths_in_db:\n",
    "        try:\n",
    "            image = cv2.imread(image_path)\n",
    "            resized_image = cv2.resize(image, (224, 224))\n",
    "            temp_file_path = tempfile.mktemp(suffix=\".png\")\n",
    "            cv2.imwrite(temp_file_path, resized_image)\n",
    "            return image_path, temp_file_path\n",
    "        except Exception as e:\n",
    "            print(f\"Error processing image '{image_path}': {str(e)}\")\n",
    "    return None"
   ]
  },
  {
   "cell_type": "code",
   "execution_count": 7,
   "metadata": {},
   "outputs": [],
   "source": [
    "# Use ThreadPoolExecutor for send_images\n",
    "def send_images(directory: str, batch_size: int = 100):\n",
    "    with ThreadPoolExecutor() as executor:\n",
    "        futures = []\n",
    "        files_chunks = list(chunker(list(prepare_files(directory)), batch_size))\n",
    "        for chunk_index, files_chunk in enumerate(files_chunks, 1):\n",
    "            futures.append(executor.submit(process_image_chunk, chunk_index, files_chunk, len(files_chunks)))\n",
    "        for future in as_completed(futures):\n",
    "            print(future.result())"
   ]
  },
  {
   "cell_type": "code",
   "execution_count": 8,
   "metadata": {},
   "outputs": [],
   "source": [
    "def process_image_chunk(chunk_index, files_chunk, total_chunks):\n",
    "    files = []\n",
    "    file_objects = []  # List to hold file objects\n",
    "    for image_path, temp_file_path in files_chunk:\n",
    "        file_obj = open(temp_file_path, 'rb')  # Store the file object in a variable\n",
    "        file_objects.append(file_obj)  # Add the file object to the list\n",
    "        files.append(('images', (image_path, file_obj, 'image/png')))\n",
    "    print(f\"Processing chunk {chunk_index}/{total_chunks} - {len(files_chunk)} images...\")\n",
    "    response = requests.post('http://148.113.143.16:9999/image_embeddings/', files=files)\n",
    "    if response.status_code == 200:\n",
    "        embeddings = response.json()['image_embeddings']\n",
    "        documents = [{'image_path': image_path, 'embedding': embedding} for (image_path, _), embedding in zip(files_chunk, embeddings)]\n",
    "        embeddings_collection.insert_many(documents)\n",
    "        print(f\"Chunk {chunk_index}/{total_chunks} processed successfully!\")\n",
    "    else:\n",
    "        print(f'Error while processing chunk {chunk_index}/{total_chunks}: {response.text}')\n",
    "    # Close all open files\n",
    "    for file_obj in file_objects:\n",
    "        file_obj.close()\n",
    "    # Now it's safe to delete the files\n",
    "    for _, temp_file_path in files_chunk:\n",
    "        os.remove(temp_file_path)"
   ]
  },
  {
   "cell_type": "code",
   "execution_count": 9,
   "metadata": {},
   "outputs": [],
   "source": [
    "def send_text(prompt):\n",
    "    data = {\"prompt\": prompt}\n",
    "    response = requests.post('http://148.113.143.16:9999/text_embeddings/', json=data)\n",
    "    if response.status_code == 200:\n",
    "        return response.json()\n",
    "    else:\n",
    "        print(f'Error while sending text: {response.text}')\n",
    "        return None"
   ]
  },
  {
   "cell_type": "code",
   "execution_count": 10,
   "metadata": {},
   "outputs": [],
   "source": [
    "# Search for similar images given a query in DB\n",
    "def get_similar_images(text_embedding: str, similarity_threshold: float = 0.22) -> List[str]:\n",
    "    # Processing text embeddings\n",
    "    text_embedding = torch.tensor(text_embedding)\n",
    "    # Get all embeddings from the database\n",
    "    documents = embeddings_collection.find()\n",
    "    # Compute similarities with all image embeddings and get all that are above the threshold\n",
    "    similar_images = []\n",
    "    for document in documents:\n",
    "        image_path = document['image_path']\n",
    "        image_embeddings = torch.tensor(document['embedding'])\n",
    "        similarity = F.cosine_similarity(text_embedding, image_embeddings)\n",
    "        if similarity.item() > similarity_threshold:\n",
    "            similar_images.append((similarity.item(), image_path))\n",
    "    # Sort by similarity score\n",
    "    similar_images = sorted(similar_images, key=lambda x: x[0], reverse=True)\n",
    "    # Return image paths\n",
    "    return [path for sim, path in similar_images]"
   ]
  },
  {
   "cell_type": "code",
   "execution_count": 11,
   "metadata": {},
   "outputs": [],
   "source": [
    "def compute_similarity_threshold(prompt: str, base_threshold: float = 0.23, increment: float = 0.015) -> float:\n",
    "    words = [word for word in prompt.split() if word not in stop_words]\n",
    "    num_words = len(words)\n",
    "    return base_threshold + num_words * increment"
   ]
  },
  {
   "cell_type": "code",
   "execution_count": 12,
   "metadata": {},
   "outputs": [
    {
     "name": "stdout",
     "output_type": "stream",
     "text": [
      "Error processing image 'D:\\AIML\\gimmick\\images2000\\↻𓂃 𝐄𝐔𝐏𝐇𝐎𝐑𝐈𝐀 ━━ 𝐓𝐨𝐤𝐲𝐨 𝐑𝐞𝐯𝐞𝐧𝐠𝐞𝐫𝐬, 𝖨𝗆𝖺𝗀𝗂𝗇𝖾𝗌.jpeg': OpenCV(4.7.0) D:\\a\\opencv-python\\opencv-python\\opencv\\modules\\imgproc\\src\\resize.cpp:4062: error: (-215:Assertion failed) !ssize.empty() in function 'cv::resize'\n",
      "\n"
     ]
    }
   ],
   "source": [
    "send_images('D:\\AIML\\gimmick\\images2000')"
   ]
  },
  {
   "cell_type": "code",
   "execution_count": 13,
   "metadata": {},
   "outputs": [],
   "source": [
    "# Send a text prompt to the FastAPI server and store the returned embedding\n",
    "prompt = \"sunset\"\n",
    "text_embedding = send_text(prompt)\n",
    "text_embedding = text_embedding.get('text_embedding')"
   ]
  },
  {
   "cell_type": "code",
   "execution_count": 14,
   "metadata": {},
   "outputs": [],
   "source": [
    "# compute the similarity threshold based on the number of words in the prompt\n",
    "similarity_threshold = compute_similarity_threshold(prompt)"
   ]
  },
  {
   "cell_type": "code",
   "execution_count": 15,
   "metadata": {},
   "outputs": [
    {
     "data": {
      "text/plain": [
       "['D:\\\\AIML\\\\gimmick\\\\images2000\\\\photo-1686882846945-4a07366aba60.jpg',\n",
       " 'D:\\\\AIML\\\\gimmick\\\\images2000\\\\photo-1687166431515-123c0419a89b.jpg',\n",
       " 'D:\\\\AIML\\\\gimmick\\\\images2000\\\\photo-1687222771254-ddaa3381e619.jpg',\n",
       " 'D:\\\\AIML\\\\gimmick\\\\images2000\\\\premium_photo-1677693662922-3a8f7abe5f2b.jpg',\n",
       " 'D:\\\\AIML\\\\gimmick\\\\images2000\\\\photo-1687252827323-6bb790696569.jpg',\n",
       " 'D:\\\\AIML\\\\gimmick\\\\images2000\\\\photo-1687436583975-1ea5a34becc2.jpg',\n",
       " 'D:\\\\AIML\\\\gimmick\\\\images2000\\\\photo-1682687982204-f1a77dcc3067.jpg',\n",
       " 'D:\\\\AIML\\\\gimmick\\\\images2000\\\\premium_photo-1670148434846-eab89d9dbdc0.jpg',\n",
       " 'D:\\\\AIML\\\\gimmick\\\\images2000\\\\photo-1686900248731-5a492eb9a5e2.jpg',\n",
       " 'D:\\\\AIML\\\\gimmick\\\\images2000\\\\photo-1687175452114-3a4fc0664df3.jpg',\n",
       " 'D:\\\\AIML\\\\gimmick\\\\images2000\\\\photo-1687789903431-54cdeb56bb43.jpg',\n",
       " 'D:\\\\AIML\\\\gimmick\\\\images2000\\\\photo-1503162894963-8c333941fb01.jpg',\n",
       " 'D:\\\\AIML\\\\gimmick\\\\images2000\\\\premium_photo-1681140029699-ee43ba816894.jpg',\n",
       " 'D:\\\\AIML\\\\gimmick\\\\images2000\\\\photo-1688118109357-97c793fcd4b9.jpg',\n",
       " 'D:\\\\AIML\\\\gimmick\\\\images2000\\\\photo-1687888527795-c04393357205.jpg',\n",
       " 'D:\\\\AIML\\\\gimmick\\\\images2000\\\\photo-1529697216570-f48ef8f6b2dd.jpg',\n",
       " 'D:\\\\AIML\\\\gimmick\\\\images2000\\\\premium_photo-1664116928361-2972cf5d6848.jpg',\n",
       " 'D:\\\\AIML\\\\gimmick\\\\images2000\\\\photo-1686742745949-bf6603f74866.jpg',\n",
       " 'D:\\\\AIML\\\\gimmick\\\\images2000\\\\photo-1683009427500-71296178737f.jpg',\n",
       " 'D:\\\\AIML\\\\gimmick\\\\images2000\\\\photo-1687789903381-d2e97615f06a.jpg',\n",
       " 'D:\\\\AIML\\\\gimmick\\\\images2000\\\\photo-1687913161653-7cddb0ba09b0.jpg',\n",
       " 'D:\\\\AIML\\\\gimmick\\\\images2000\\\\photo-1600288214715-7c9e3127c3c2.jpg',\n",
       " 'D:\\\\AIML\\\\gimmick\\\\images2000\\\\photo-1682687218982-6c508299e107.jpg',\n",
       " 'D:\\\\AIML\\\\gimmick\\\\images2000\\\\photo-1525950585137-7ccabbf3ed62.jpg',\n",
       " 'D:\\\\AIML\\\\gimmick\\\\images2000\\\\photo-1687161877224-9b1b0448cc17.jpg',\n",
       " 'D:\\\\AIML\\\\gimmick\\\\images2000\\\\photo-1687482976391-8de6c1122c7f.jpg',\n",
       " 'D:\\\\AIML\\\\gimmick\\\\images2000\\\\photo-1687084626949-93a5e1555fcf.jpg',\n",
       " 'D:\\\\AIML\\\\gimmick\\\\images2000\\\\photo-1635454022133-e287f3924950.jpg',\n",
       " 'D:\\\\AIML\\\\gimmick\\\\images2000\\\\photo-1637248921272-55cb27d12a31.jpg',\n",
       " 'D:\\\\AIML\\\\gimmick\\\\images2000\\\\photo-1682685796063-d2604827f7b3.jpg',\n",
       " 'D:\\\\AIML\\\\gimmick\\\\images2000\\\\photo-1525531845240-05c911ed9940.jpg',\n",
       " 'D:\\\\AIML\\\\gimmick\\\\images2000\\\\photo-1682686581220-689c34afb6ef.jpg',\n",
       " 'D:\\\\AIML\\\\gimmick\\\\images2000\\\\photo-1687192231220-eb50d5e04b39.jpg',\n",
       " 'D:\\\\AIML\\\\gimmick\\\\images2000\\\\photo-1686903430777-279ba0f25e7f.jpg',\n",
       " 'D:\\\\AIML\\\\gimmick\\\\images2000\\\\07zeMJGB_4x.jpg',\n",
       " 'D:\\\\AIML\\\\gimmick\\\\images2000\\\\photo-1687986018753-44c0eddb6b71.jpg',\n",
       " 'D:\\\\AIML\\\\gimmick\\\\images2000\\\\photo-1682687982183-c2937a74257c.jpg',\n",
       " 'D:\\\\AIML\\\\gimmick\\\\images2000\\\\photo-1682686580391-615b1f28e5ee.jpg',\n",
       " 'D:\\\\AIML\\\\gimmick\\\\images2000\\\\photo-1687270282463-4e3bd2b90160.jpg',\n",
       " 'D:\\\\AIML\\\\gimmick\\\\images2000\\\\photo-1638111963063-9dc8f1afa9b9.jpg',\n",
       " 'D:\\\\AIML\\\\gimmick\\\\images2000\\\\photo-1687270282079-58b4689fed0f.jpg',\n",
       " 'D:\\\\AIML\\\\gimmick\\\\images2000\\\\photo-1687042268541-5cc60ad9d3de.jpg',\n",
       " 'D:\\\\AIML\\\\gimmick\\\\images2000\\\\photo-1638108820168-77c13bd437bd.jpg',\n",
       " 'D:\\\\AIML\\\\gimmick\\\\images2000\\\\photo-1682685796014-2f342188a635.jpg',\n",
       " 'D:\\\\AIML\\\\gimmick\\\\images2000\\\\photo-1687814882714-711709cc9bee.jpg',\n",
       " 'D:\\\\AIML\\\\gimmick\\\\images2000\\\\photo-1635406726707-a25a0dbc2e14.jpg',\n",
       " 'D:\\\\AIML\\\\gimmick\\\\images2000\\\\photo-1638997984488-b430828d0f0d.jpg',\n",
       " 'D:\\\\AIML\\\\gimmick\\\\images2000\\\\photo-1686740172488-6a680069affb.jpg',\n",
       " 'D:\\\\AIML\\\\gimmick\\\\images2000\\\\photo-1687462133022-2f3f256afe62.jpg',\n",
       " 'D:\\\\AIML\\\\gimmick\\\\images2000\\\\photo-1636189395464-c277f6f6f8ad.jpg',\n",
       " 'D:\\\\AIML\\\\gimmick\\\\images2000\\\\photo-1637478847587-1740c47f65dc.jpg',\n",
       " 'D:\\\\AIML\\\\gimmick\\\\images2000\\\\photo-1686935822010-37a73db37bcf.jpg',\n",
       " 'D:\\\\AIML\\\\gimmick\\\\images2000\\\\photo-1682687220199-d0124f48f95b.jpg',\n",
       " 'D:\\\\AIML\\\\gimmick\\\\images2000\\\\photo-1509114397022-ed747cca3f65.jpg',\n",
       " 'D:\\\\AIML\\\\gimmick\\\\images2000\\\\photo-1562374184-a71b175917b0.jpg',\n",
       " 'D:\\\\AIML\\\\gimmick\\\\images2000\\\\photo-1635206936639-a81691418fbf.jpg',\n",
       " 'D:\\\\AIML\\\\gimmick\\\\images2000\\\\photo-1632197853542-cae243b49062.jpg',\n",
       " 'D:\\\\AIML\\\\gimmick\\\\images2000\\\\profile-fb-1549954645-d74c75f1fc6d.jpg',\n",
       " 'D:\\\\AIML\\\\gimmick\\\\images2000\\\\photo-1636006988787-83d60e19f7e4.jpg',\n",
       " 'D:\\\\AIML\\\\gimmick\\\\images2000\\\\photo-1687428959667-369ef891658a.jpg',\n",
       " 'D:\\\\AIML\\\\gimmick\\\\images2000\\\\photo-1639021110992-e12c8eb31f92.jpg',\n",
       " 'D:\\\\AIML\\\\gimmick\\\\images2000\\\\photo-1635005492534-fb34f77c2202.jpg',\n",
       " 'D:\\\\AIML\\\\gimmick\\\\images2000\\\\photo-1687285363815-60fd89e6a4d4.jpg',\n",
       " 'D:\\\\AIML\\\\gimmick\\\\images2000\\\\photo-1687992469789-3e2cb55e1cd7.jpg',\n",
       " 'D:\\\\AIML\\\\gimmick\\\\images2000\\\\photo-1540137779703-594db0107a4b.jpg',\n",
       " 'D:\\\\AIML\\\\gimmick\\\\images2000\\\\photo-1682687220363-35e4621ed990.jpg',\n",
       " 'D:\\\\AIML\\\\gimmick\\\\images2000\\\\photo-1683009427513-28e163402d16.jpg',\n",
       " 'D:\\\\AIML\\\\gimmick\\\\images2000\\\\photo-1687149684845-3650ed97bc70.jpg',\n",
       " 'D:\\\\AIML\\\\gimmick\\\\images2000\\\\photo-1682687982093-4773cb0dbc2e.jpg',\n",
       " 'D:\\\\AIML\\\\gimmick\\\\images2000\\\\photo-1687499559554-b12276ea77ed.jpg',\n",
       " 'D:\\\\AIML\\\\gimmick\\\\images2000\\\\premium_photo-1669806748840-967932ca1720.jpg',\n",
       " 'D:\\\\AIML\\\\gimmick\\\\images2000\\\\photo-1682686580950-960d1d513532.jpg',\n",
       " 'D:\\\\AIML\\\\gimmick\\\\images2000\\\\photo-1664397943078-12c973839085.jpg',\n",
       " 'D:\\\\AIML\\\\gimmick\\\\images2000\\\\photo-1636126175948-96ccc89b9c45.jpg',\n",
       " 'D:\\\\AIML\\\\gimmick\\\\images2000\\\\photo-1687027053771-76a0460d1c68.jpg']"
      ]
     },
     "execution_count": 15,
     "metadata": {},
     "output_type": "execute_result"
    }
   ],
   "source": [
    "# Get similar images from the database\n",
    "get_similar_images(text_embedding, similarity_threshold)"
   ]
  }
 ],
 "metadata": {
  "kernelspec": {
   "display_name": "Python 3",
   "language": "python",
   "name": "python3"
  },
  "language_info": {
   "codemirror_mode": {
    "name": "ipython",
    "version": 3
   },
   "file_extension": ".py",
   "mimetype": "text/x-python",
   "name": "python",
   "nbconvert_exporter": "python",
   "pygments_lexer": "ipython3",
   "version": "3.9.9"
  },
  "orig_nbformat": 4
 },
 "nbformat": 4,
 "nbformat_minor": 2
}
