{
 "cells": [
  {
   "cell_type": "code",
   "execution_count": 24,
   "metadata": {},
   "outputs": [],
   "source": [
    "from PIL import Image\n",
    "from PIL.ExifTags import TAGS"
   ]
  },
  {
   "cell_type": "code",
   "execution_count": 25,
   "metadata": {},
   "outputs": [],
   "source": [
    "img_path = \"D:\\AIML\\gimmick\\Scene-Sense\\images\\laion2b_en_part_00000_000000.png\""
   ]
  },
  {
   "cell_type": "code",
   "execution_count": 26,
   "metadata": {},
   "outputs": [],
   "source": [
    "image = Image.open(img_path)"
   ]
  },
  {
   "cell_type": "code",
   "execution_count": 27,
   "metadata": {},
   "outputs": [],
   "source": [
    "exifdata = image.getexif()"
   ]
  },
  {
   "cell_type": "code",
   "execution_count": 28,
   "metadata": {},
   "outputs": [],
   "source": [
    "# iterating over all EXIF data fields\n",
    "for tag_id in exifdata:\n",
    "    # get the tag name, instead of human unreadable tag id\n",
    "    tag = TAGS.get(tag_id, tag_id)\n",
    "    data = exifdata.get(tag_id)\n",
    "    # decode bytes \n",
    "    if isinstance(data, bytes):\n",
    "        data = data.decode()\n",
    "    print(f\"{tag:25}: {data}\")"
   ]
  },
  {
   "cell_type": "markdown",
   "metadata": {},
   "source": [
    "----"
   ]
  },
  {
   "cell_type": "code",
   "execution_count": null,
   "metadata": {},
   "outputs": [],
   "source": [
    "xmp_tags = f'<dc:subject>{tags}</dc:subject>'\n",
    "from PIL import Image\n",
    "import piexif\n",
    "\n",
    "image_paths = ['imag.jpg', 'image.jpg']\n",
    "captions = ['Caption 1', 'Caption 2']\n",
    "xmp_tags = ['Nature, Landscape', 'Mountains']\n",
    "\n",
    "for i in range(len(image_paths)):\n",
    "    image_path = image_paths[i]\n",
    "    image = Image.open(image_path)\n",
    "    exif_dict = piexif.load(image_path)\n",
    "    exif_dict['0th'][piexif.ImageIFD.ImageDescription] = captions[i]\n",
    "    exif_dict['Xmp'] = {'XPKeywords': xmp_tags[i]}\n",
    "    exif_bytes = piexif.dump(exif_dict)\n",
    "    image.save(image_path, \"jpeg\", exif=exif_bytes)\n",
    "\n",
    "exif_dict= piexif.load(image_path)\n",
    "exif_dict"
   ]
  }
 ],
 "metadata": {
  "kernelspec": {
   "display_name": "Python 3",
   "language": "python",
   "name": "python3"
  },
  "language_info": {
   "codemirror_mode": {
    "name": "ipython",
    "version": 3
   },
   "file_extension": ".py",
   "mimetype": "text/x-python",
   "name": "python",
   "nbconvert_exporter": "python",
   "pygments_lexer": "ipython3",
   "version": "3.9.9"
  },
  "orig_nbformat": 4
 },
 "nbformat": 4,
 "nbformat_minor": 2
}
