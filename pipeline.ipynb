{
 "cells": [
  {
   "attachments": {},
   "cell_type": "markdown",
   "metadata": {},
   "source": [
    "# Local Deployment"
   ]
  },
  {
   "cell_type": "code",
   "execution_count": null,
   "metadata": {},
   "outputs": [],
   "source": [
    "# Importing Dependencies\n",
    "import torch\n",
    "import torch.nn.functional as F\n",
    "import open_clip\n",
    "import os\n",
    "from typing import List\n",
    "from pymongo import MongoClient\n",
    "from PIL import Image\n",
    "import nltk\n",
    "from nltk.corpus import stopwords"
   ]
  },
  {
   "cell_type": "code",
   "execution_count": null,
   "metadata": {},
   "outputs": [],
   "source": [
    "nltk.download('stopwords')\n",
    "stop_words = set(stopwords.words('english'))"
   ]
  },
  {
   "cell_type": "code",
   "execution_count": null,
   "metadata": {},
   "outputs": [],
   "source": [
    "# Check if GPU is available and set device\n",
    "device = torch.device('cuda' if torch.cuda.is_available() else 'cpu')"
   ]
  },
  {
   "cell_type": "code",
   "execution_count": null,
   "metadata": {},
   "outputs": [],
   "source": [
    "# Load model and tokenizer\n",
    "model, _, preprocess = open_clip.create_model_and_transforms('ViT-B-32', pretrained='laion2b_s34b_b79k', device=device)\n",
    "tokenizer = open_clip.get_tokenizer('ViT-B-32')"
   ]
  },
  {
   "cell_type": "code",
   "execution_count": null,
   "metadata": {},
   "outputs": [],
   "source": [
    "# Create a MongoDB client\n",
    "client = MongoClient('mongodb://localhost:27017')  # replace with your connection string\n",
    "\n",
    "# Create a database and a collection within the database\n",
    "db = client['scene-sense']\n",
    "embeddings_collection = db['sample-embeddings']"
   ]
  },
  {
   "cell_type": "code",
   "execution_count": null,
   "metadata": {},
   "outputs": [],
   "source": [
    "# Function to get embeddings from image and store in MongoDB\n",
    "def process_image_dir(directory: str):\n",
    "    for filename in os.listdir(directory):\n",
    "        if filename.endswith(\".jpg\") or filename.endswith(\".png\"):\n",
    "            image_path = os.path.join(directory, filename)\n",
    "            \n",
    "            # Check if the path already exists in the database\n",
    "            existing_document = embeddings_collection.find_one({'image_path': image_path})\n",
    "            if existing_document is not None:\n",
    "                # If the path already exists in the database, skip this image\n",
    "                continue\n",
    "                \n",
    "            # Else, compute the embedding and store it in the database\n",
    "            image = preprocess(Image.open(image_path)).unsqueeze(0).to(device)\n",
    "            with torch.no_grad(), torch.cuda.amp.autocast():\n",
    "                image_features = model.encode_image(image)\n",
    "                image_features /= image_features.norm(dim=-1, keepdim=True)\n",
    "            \n",
    "            # Save to MongoDB\n",
    "            document = {\n",
    "                'image_path': image_path,\n",
    "                'embedding': image_features.cpu().numpy().tolist()  # convert tensor to list for storage\n",
    "            }\n",
    "            embeddings_collection.insert_one(document)"
   ]
  },
  {
   "cell_type": "code",
   "execution_count": null,
   "metadata": {},
   "outputs": [],
   "source": [
    "from IPython.display import display, Image\n",
    "# Search for similar images given a query in DB\n",
    "def run_query(query: str, similarity_threshold: float = 0.22) -> List[str]:\n",
    "    # Tokenize and encode the query\n",
    "    text = tokenizer([query]).to(device)\n",
    "    with torch.no_grad(), torch.cuda.amp.autocast():\n",
    "        text_features = model.encode_text(text)\n",
    "        text_features /= text_features.norm(dim=-1, keepdim=True)\n",
    "\n",
    "    # Get all embeddings from the database\n",
    "    documents = embeddings_collection.find()\n",
    "\n",
    "    # Compute similarities with all image embeddings and get all that are above the threshold\n",
    "    similar_images = []\n",
    "    for document in documents:\n",
    "        image_path = document['image_path']\n",
    "        image_features = torch.tensor(document['embedding'], device=device)\n",
    "        similarity = F.cosine_similarity(text_features, image_features)\n",
    "\n",
    "        if similarity.item() > similarity_threshold:\n",
    "            similar_images.append((similarity.item(), image_path))\n",
    "\n",
    "    # Sort by similarity score\n",
    "    similar_images = sorted(similar_images, key=lambda x: x[0], reverse=True)\n",
    "    \n",
    "    # Print and display images\n",
    "    for sim, path in similar_images:\n",
    "        print(f\"Similarity: {sim}, Image Path: {path}\")\n",
    "        display(Image(filename=path))"
   ]
  },
  {
   "cell_type": "code",
   "execution_count": null,
   "metadata": {},
   "outputs": [],
   "source": [
    "def compute_similarity_threshold(prompt: str, base_threshold: float = 0.23, increment: float = 0.015) -> float:\n",
    "    words = [word for word in prompt.split() if word not in stop_words]\n",
    "    num_words = len(words)\n",
    "    return base_threshold + num_words * increment"
   ]
  },
  {
   "cell_type": "code",
   "execution_count": null,
   "metadata": {},
   "outputs": [],
   "source": [
    "# Create Embeddings\n",
    "process_image_dir('sample_images')"
   ]
  },
  {
   "attachments": {},
   "cell_type": "markdown",
   "metadata": {},
   "source": [
    "### Increase the threshold as the number of words increase in the prompt"
   ]
  },
  {
   "cell_type": "code",
   "execution_count": null,
   "metadata": {},
   "outputs": [],
   "source": [
    "prompt = \"\"\n",
    "# Search for similar images\n",
    "threshold = compute_similarity_threshold(prompt)\n",
    "run_query(prompt, threshold)"
   ]
  }
 ],
 "metadata": {
  "kernelspec": {
   "display_name": "Python 3",
   "language": "python",
   "name": "python3"
  },
  "language_info": {
   "codemirror_mode": {
    "name": "ipython",
    "version": 3
   },
   "file_extension": ".py",
   "mimetype": "text/x-python",
   "name": "python",
   "nbconvert_exporter": "python",
   "pygments_lexer": "ipython3",
   "version": "3.9.9"
  },
  "orig_nbformat": 4
 },
 "nbformat": 4,
 "nbformat_minor": 2
}
