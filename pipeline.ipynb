{
 "cells": [
  {
   "cell_type": "code",
   "execution_count": 5,
   "metadata": {},
   "outputs": [],
   "source": [
    "import requests\n",
    "import json\n",
    "import sqlite3\n",
    "import os\n",
    "import json\n",
    "import base64"
   ]
  },
  {
   "cell_type": "code",
   "execution_count": 6,
   "metadata": {},
   "outputs": [],
   "source": [
    "#define image path\n",
    "image_path = \"D:\\AIML\\Tutorial\\galgadot.jpg\"\n",
    "\n",
    "# Open the image file in binary mode, encode it in base64, and decode it to ASCII\n",
    "with open(image_path, \"rb\") as image_file:\n",
    "    encoded_string = base64.b64encode(image_file.read()).decode('ascii')"
   ]
  },
  {
   "cell_type": "code",
   "execution_count": 7,
   "metadata": {},
   "outputs": [],
   "source": [
    "# Call the API and get the generated text\n",
    "api_endpoint = 'http://148.113.143.16:8080'\n",
    "\n",
    "# Prepare the headers for the API request\n",
    "headers = {\n",
    "\t'Content-Type': 'application/json',\n",
    "}\n",
    "\n",
    "# Prepare the payload for the API request\n",
    "payload = {\n",
    "\t\"image\": encoded_string\n",
    "}"
   ]
  },
  {
   "cell_type": "code",
   "execution_count": 9,
   "metadata": {},
   "outputs": [],
   "source": [
    "# Send the POST request to the API endpoint\n",
    "response = requests.post(api_endpoint, headers=headers, data=json.dumps(payload), timeout=10)"
   ]
  },
  {
   "cell_type": "code",
   "execution_count": 10,
   "metadata": {},
   "outputs": [],
   "source": [
    "caption = response.json()['caption']\n",
    "tags = response.json()['tags']"
   ]
  },
  {
   "cell_type": "code",
   "execution_count": 11,
   "metadata": {},
   "outputs": [
    {
     "name": "stdout",
     "output_type": "stream",
     "text": [
      "Caption:  a woman putting makeup on her face with lipstick on her lips\n",
      "Tags:  lip | woman | model | makeup | lipstick | person | face\n"
     ]
    }
   ],
   "source": [
    "print(\"Caption: \", caption)\n",
    "print(\"Tags: \", tags)"
   ]
  }
 ],
 "metadata": {
  "kernelspec": {
   "display_name": "Python 3",
   "language": "python",
   "name": "python3"
  },
  "language_info": {
   "codemirror_mode": {
    "name": "ipython",
    "version": 3
   },
   "file_extension": ".py",
   "mimetype": "text/x-python",
   "name": "python",
   "nbconvert_exporter": "python",
   "pygments_lexer": "ipython3",
   "version": "3.9.9"
  },
  "orig_nbformat": 4
 },
 "nbformat": 4,
 "nbformat_minor": 2
}
