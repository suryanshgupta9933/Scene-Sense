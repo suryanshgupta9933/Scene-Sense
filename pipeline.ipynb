{
 "cells": [
  {
   "cell_type": "code",
   "execution_count": null,
   "metadata": {},
   "outputs": [],
   "source": [
    "import os\n",
    "import requests\n",
    "import json\n",
    "import sqlite3\n",
    "import base64"
   ]
  },
  {
   "cell_type": "code",
   "execution_count": null,
   "metadata": {},
   "outputs": [],
   "source": [
    "# connect to the SQLite database (or create it if it doesn't exist)\n",
    "conn = sqlite3.connect('image_metadata.db')\n",
    "c = conn.cursor()"
   ]
  },
  {
   "cell_type": "code",
   "execution_count": null,
   "metadata": {},
   "outputs": [],
   "source": [
    "# create table (if it doesn't exist already)\n",
    "c.execute('''\n",
    "    CREATE TABLE IF NOT EXISTS images (\n",
    "        file_name TEXT,\n",
    "        file_path TEXT,\n",
    "        caption TEXT,\n",
    "        tags TEXT\n",
    "    )\n",
    "''')"
   ]
  },
  {
   "cell_type": "code",
   "execution_count": null,
   "metadata": {},
   "outputs": [],
   "source": [
    "# Call the API and get the generated text\n",
    "api_endpoint = 'http://148.113.143.16:8080'\n",
    "\n",
    "# prepare the headers for the API request\n",
    "headers = {\n",
    "    'Content-Type': 'application/json',\n",
    "}"
   ]
  },
  {
   "cell_type": "code",
   "execution_count": null,
   "metadata": {},
   "outputs": [],
   "source": [
    "def process_images_in_folder(folder_path):\n",
    "    for file_name in os.listdir(folder_path):\n",
    "        if file_name.endswith(('.png', '.jpg', '.jpeg', '.tiff', '.bmp', '.gif')):\n",
    "            file_path = os.path.join(folder_path, file_name)\n",
    "\n",
    "            # check if the image is already in the database\n",
    "            c.execute('''\n",
    "                SELECT * FROM images WHERE file_name = ? AND file_path = ?\n",
    "            ''', (file_name, file_path))\n",
    "            result = c.fetchone()\n",
    "            if result is not None:\n",
    "                print(f\"Skipping {file_name} - already in database\")\n",
    "                continue\n",
    "\n",
    "            # Open the image file in binary mode, encode it in base64, and decode it to ASCII\n",
    "            with open(file_path, \"rb\") as image_file:\n",
    "                encoded_string = base64.b64encode(image_file.read()).decode('ascii')\n",
    "\n",
    "            # prepare the payload for the API request\n",
    "            payload = {\n",
    "                \"image\": encoded_string\n",
    "            }\n",
    "\n",
    "            # send the POST request to the API endpoint\n",
    "            response = requests.post(api_endpoint, headers=headers, data=json.dumps(payload), timeout=30)\n",
    "            caption = response.json()['caption']\n",
    "            tags = response.json()['tags']\n",
    "\n",
    "            # insert the image metadata into the database\n",
    "            c.execute('''\n",
    "                INSERT INTO images VALUES (?, ?, ?, ?)\n",
    "            ''', (file_name, file_path, caption, tags))\n",
    "\n",
    "    # commit the changes and close the connection\n",
    "    conn.commit()\n",
    "    conn.close()"
   ]
  },
  {
   "cell_type": "code",
   "execution_count": null,
   "metadata": {},
   "outputs": [],
   "source": [
    "folder_path = r\"D:\\AIML\\gimmick\\Scene-Sense\\test10\"  # Update with the actual folder path\n",
    "\n",
    "# Call the function to process the images\n",
    "process_images_in_folder(folder_path)"
   ]
  },
  {
   "attachments": {},
   "cell_type": "markdown",
   "metadata": {},
   "source": [
    "----"
   ]
  },
  {
   "cell_type": "code",
   "execution_count": null,
   "metadata": {},
   "outputs": [],
   "source": [
    "def generate_captions_and_tags(images):\n",
    "    # API endpoint for the API request\n",
    "    api_endpoint = 'http://148.113.143.16:9000'\n",
    "\n",
    "    # Prepare the headers for the API request\n",
    "    headers = {\n",
    "        'Content-Type': 'application/json',\n",
    "    }\n",
    "    \n",
    "    for image in images:\n",
    "        # Open the image file in binary mode, encode it in base64, and decode it to ASCII\n",
    "        with open(image, \"rb\") as image_file:\n",
    "            encoded_string = base64.b64encode(image_file.read()).decode('ascii')\n",
    "\n",
    "        # Prepare the payload for the API request\n",
    "        payload = {\n",
    "            \"image\": encoded_string\n",
    "        }\n",
    "\n",
    "        # Send the POST request to the API endpoint\n",
    "        response = requests.post(api_endpoint, headers=headers, data=json.dumps(payload), timeout=30)\n",
    "        \n",
    "        # Extract the caption and tags from the response\n",
    "        caption = response.json()['caption']\n",
    "        tags = response.json()['tags']\n",
    "\n",
    "    return caption, tags"
   ]
  },
  {
   "cell_type": "code",
   "execution_count": null,
   "metadata": {},
   "outputs": [],
   "source": [
    "caption, tags = generate_captions_and_tags([r\"D:\\AIML\\gimmick\\Scene-Sense\\test100\\laion2b_en_part_00000_000007.png\"])\n",
    "print(\"Caption: \", caption)\n",
    "print(\"Tags: \", tags)"
   ]
  },
  {
   "cell_type": "code",
   "execution_count": null,
   "metadata": {},
   "outputs": [],
   "source": [
    "def preprocess(caption, tags):\n",
    "    words = caption.split()\n",
    "    new_tags = tags.split(\" | \")\n",
    "    new_words = []\n",
    "    for word in words:\n",
    "        if word in new_tags:\n",
    "            new_words.append(word)\n",
    "    for tags in new_tags:\n",
    "        if tags not in new_words:\n",
    "            new_words.append(tags)\n",
    "    return \" \".join(new_words)\n",
    "\n",
    "better_tags = preprocess(caption, tags)"
   ]
  },
  {
   "cell_type": "code",
   "execution_count": null,
   "metadata": {},
   "outputs": [],
   "source": [
    "print(\"Caption: \", caption)\n",
    "print(\"Better Tags: \", better_tags)"
   ]
  },
  {
   "cell_type": "code",
   "execution_count": null,
   "metadata": {},
   "outputs": [],
   "source": [
    "# Connect to the SQLite database (or create it if it doesn't exist)\n",
    "conn = sqlite3.connect('image_metadata.db')\n",
    "c = conn.cursor()"
   ]
  },
  {
   "cell_type": "code",
   "execution_count": null,
   "metadata": {},
   "outputs": [],
   "source": [
    "# Create table (if it doesn't exist already)\n",
    "c.execute('''\n",
    "    CREATE TABLE IF NOT EXISTS images (\n",
    "        file_name TEXT,\n",
    "        file_path TEXT,\n",
    "        caption TEXT,\n",
    "        tags TEXT\n",
    "    )\n",
    "''')\n",
    "\n",
    "# Insert the image metadata into the database\n",
    "c.execute('''\n",
    "    INSERT INTO images VALUES (?, ?, ?, ?)\n",
    "''', (file_name, file_path, caption, ', '.join(tags)))\n",
    "\n",
    "# Commit the changes and close the connection\n",
    "conn.commit()\n",
    "conn.close()"
   ]
  }
 ],
 "metadata": {
  "kernelspec": {
   "display_name": "Python 3",
   "language": "python",
   "name": "python3"
  },
  "language_info": {
   "codemirror_mode": {
    "name": "ipython",
    "version": 3
   },
   "file_extension": ".py",
   "mimetype": "text/x-python",
   "name": "python",
   "nbconvert_exporter": "python",
   "pygments_lexer": "ipython3",
   "version": "3.9.9"
  },
  "orig_nbformat": 4
 },
 "nbformat": 4,
 "nbformat_minor": 2
}
